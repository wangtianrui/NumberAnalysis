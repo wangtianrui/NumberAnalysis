{
 "cells": [
  {
   "cell_type": "code",
   "execution_count": 1,
   "metadata": {},
   "outputs": [],
   "source": [
    "import numpy as np\n",
    "import matplotlib.pyplot as plt\n",
    "\n",
    "plt.rcParams['font.sans-serif'] = ['SimHei']  # 用来正常显示中文标签\n",
    "plt.rcParams['axes.unicode_minus'] = False  # 用来正常显示负号\n"
   ]
  },
  {
   "cell_type": "code",
   "execution_count": 2,
   "metadata": {},
   "outputs": [],
   "source": [
    "\n",
    "def function(x):\n",
    "    \"\"\"\n",
    "    定义函数 y = (x+5)**3 + x / 5 - 50\n",
    "    :param x: \n",
    "    :return: \n",
    "    \"\"\"\n",
    "    x = np.array(x)\n",
    "    return (x+5)**3 + x / 5 - 50\n"
   ]
  },
  {
   "cell_type": "code",
   "execution_count": 3,
   "metadata": {},
   "outputs": [],
   "source": [
    "def showFunction():\n",
    "    \"\"\"\n",
    "    初始化x\n",
    "    \"\"\"\n",
    "    x = np.array(range(100))\n",
    "    x = [(a + 1) / 10 - 8 for a in x]\n",
    "\n",
    "    \"\"\"\n",
    "    可视化，可见解在-2~0之间\n",
    "    \"\"\"\n",
    "    y = function(x)\n",
    "    plt.scatter(x, y)\n",
    "    plt.show()\n"
   ]
  },
  {
   "cell_type": "code",
   "execution_count": 4,
   "metadata": {},
   "outputs": [
    {
     "data": {
      "image/png": "[encoded data removed]",
      "text/plain": [
       "<Figure size 432x288 with 1 Axes>"
      ]
     },
     "metadata": {},
     "output_type": "display_data"
    }
   ],
   "source": [
    "showFunction()"
   ]
  },
  {
   "cell_type": "code",
   "execution_count": 5,
   "metadata": {},
   "outputs": [],
   "source": [
    "def loss(x_new, x_old):\n",
    "    \"\"\"\n",
    "    相对误差\n",
    "    :param x_new:\n",
    "    :param x_old:\n",
    "    :return:\n",
    "    \"\"\"\n",
    "    # print(x_new,x_old)\n",
    "    try:\n",
    "        loss = abs((x_new - x_old) / x_new)\n",
    "    except ZeroDivisionError:\n",
    "        loss = abs(x_new - x_old)\n",
    "    return loss\n"
   ]
  },
  {
   "cell_type": "code",
   "execution_count": 6,
   "metadata": {},
   "outputs": [
    {
     "name": "stdout",
     "output_type": "stream",
     "text": [
      "1.0\n"
     ]
    }
   ],
   "source": [
    "print(loss(1,2)) #测试"
   ]
  },
  {
   "cell_type": "code",
   "execution_count": 7,
   "metadata": {},
   "outputs": [],
   "source": [
    "\n",
    "def dichotomization(x1, x2, x_old):\n",
    "    \"\"\"\n",
    "    二分法计算新点\n",
    "    :param x1:\n",
    "    :param x2:\n",
    "    :return: 新的x1 and x2  and loss\n",
    "    \"\"\"\n",
    "    y1 = function(x1)\n",
    "    y2 = function(x2)\n",
    "    if y1 * y2 > 0:\n",
    "        print(\"二分法:输入区间不对\")\n",
    "        return\n",
    "    x_new = (x1 + x2) / 2.0\n",
    "    # print(x_new)\n",
    "    l = loss(x_new=x_new, x_old=x_old)\n",
    "    y_new = function(x_new)\n",
    "    if (y1 * y_new < 0):\n",
    "        x2 = x_new\n",
    "    elif (y2 * y_new < 0):\n",
    "        x1 = x_new\n",
    "    else:\n",
    "        x1 = x2 = x_new\n",
    "    return x1, x2, l, x_new\n"
   ]
  },
  {
   "cell_type": "code",
   "execution_count": 8,
   "metadata": {},
   "outputs": [],
   "source": [
    "\n",
    "def regulaFalsi(x1, x2, x_old):\n",
    "    \"\"\"\n",
    "    试位法计算新点\n",
    "    :param x1:\n",
    "    :param x2:\n",
    "    :return: 新的x1 and x2\n",
    "    \"\"\"\n",
    "    if x1 > x2:\n",
    "        # 确保x1小于x2\n",
    "        x1 += x2\n",
    "        x2 = x1 - x2\n",
    "        x1 -= x2\n",
    "    y1 = function(x1)\n",
    "    y2 = function(x2)\n",
    "    if y1 * y2 > 0:\n",
    "        print(\"试位法：输入区间不对\")\n",
    "        return\n",
    "    x_new = x1 + abs((x2 - x1) * y1 / (y2 + y1))\n",
    "    l = loss(x_new=x_new, x_old=x_old)\n",
    "    y_new = function(x_new)\n",
    "    if (y1 * y_new < 0):\n",
    "        x2 = x_new\n",
    "    elif (y2 * y_new < 0):\n",
    "        x1 = x_new\n",
    "    else:\n",
    "        x1 = x2 = x_new\n",
    "    return x1, x2, l, x_new"
   ]
  },
  {
   "cell_type": "code",
   "execution_count": 9,
   "metadata": {},
   "outputs": [],
   "source": [
    "def stepsCountLimit(steps):\n",
    "    \"\"\"\n",
    "    以搜索次数为限制（弹出条件）\n",
    "    在[-200,150]中搜索 ， 通过修改d_x1 , r_x1 , d_x2 , r_x2设定\n",
    "    :param steps: 搜索次数\n",
    "    :return: loss\n",
    "    \"\"\"\n",
    "    dichotomy_loss = []\n",
    "    regulafalsi_loss = []\n",
    "    d_x1 = r_x1 = -200\n",
    "    d_x2 = r_x2 = 150\n",
    "    d_x_old = r_x_old = -200\n",
    "    for i in range(steps):\n",
    "        d_x1, d_x2, d_loss, d_x_old = \\\n",
    "            dichotomization(d_x1, d_x2, d_x_old)\n",
    "\n",
    "        r_x1, r_x2, r_loss, r_x_old = \\\n",
    "            regulaFalsi(r_x1, r_x2, r_x_old)\n",
    "\n",
    "        dichotomy_loss.append(d_loss)\n",
    "        regulafalsi_loss.append(r_loss)\n",
    "        # print(d_loss,r_loss)\n",
    "\n",
    "    plt.figure()\n",
    "    plt.subplot(211)\n",
    "    plt.plot(range(len(dichotomy_loss)), dichotomy_loss)\n",
    "    plt.title(\"二分法loss\")\n",
    "\n",
    "    plt.subplot(212)\n",
    "    plt.plot(range(len(regulafalsi_loss)), regulafalsi_loss)\n",
    "    plt.title(\"试位法loss\")\n",
    "    plt.show()\n"
   ]
  },
  {
   "cell_type": "code",
   "execution_count": 10,
   "metadata": {},
   "outputs": [
    {
     "data": {
      "image/png": "[encoded data removed]",
      "text/plain": [
       "<Figure size 432x288 with 2 Axes>"
      ]
     },
     "metadata": {},
     "output_type": "display_data"
    }
   ],
   "source": [
    "stepsCountLimit(1000)"
   ]
  },
  {
   "cell_type": "code",
   "execution_count": 11,
   "metadata": {},
   "outputs": [],
   "source": [
    "\n",
    "def breakByLoss(lossLimit):\n",
    "    \"\"\"\n",
    "    以loss为弹出条件\n",
    "    :param lossLimit:\n",
    "    :return:\n",
    "    \"\"\"\n",
    "    dichotomy_loss = []\n",
    "    regulafalsi_loss = []\n",
    "    d_x1 = r_x1 = -2\n",
    "    d_x2 = r_x2 = 100\n",
    "    d_x_old = r_x_old = -200\n",
    "    d_loss = r_loss = 100\n",
    "\n",
    "    while (d_loss > lossLimit):\n",
    "        d_x1, d_x2, d_loss, d_x_old = \\\n",
    "            dichotomization(d_x1, d_x2, d_x_old)\n",
    "        dichotomy_loss.append(d_loss)\n",
    "\n",
    "    while (r_loss > lossLimit):\n",
    "        r_x1, r_x2, r_loss, r_x_old = \\\n",
    "            regulaFalsi(r_x1, r_x2, r_x_old)\n",
    "        regulafalsi_loss.append(r_loss)\n",
    "\n",
    "    plt.figure()\n",
    "    plt.subplot(211)\n",
    "    plt.plot(range(len(dichotomy_loss)), dichotomy_loss)\n",
    "    plt.title(\"二分法loss\")\n",
    "\n",
    "    plt.subplot(212)\n",
    "    plt.plot(range(len(regulafalsi_loss)), regulafalsi_loss)\n",
    "    plt.title(\"试位法loss\")\n",
    "    plt.show()"
   ]
  },
  {
   "cell_type": "code",
   "execution_count": 12,
   "metadata": {},
   "outputs": [
    {
     "data": {
      "image/png": "[encoded data removed]",
      "text/plain": [
       "<Figure size 432x288 with 2 Axes>"
      ]
     },
     "metadata": {},
     "output_type": "display_data"
    }
   ],
   "source": [
    "breakByLoss(lossLimit=1e-3)"
   ]
  },
  {
   "cell_type": "markdown",
   "metadata": {},
   "source": [
    "#### 发现问题\n",
    " * 试位法在初始点其中一个离正确值较近时，另一个相对较远时确实比二分法快\n",
    " * 在我写的函数上，二分法能够找到正确值（准确的），试位法只能无限逼近\n",
    "\n",
    "#### 解决  (问题前提是在区间内只有唯一解)\n",
    "* 第一个秦老师在课上已讲\n",
    "* 第二个是函数问题如下图\n",
    "\n",
    "![](https://ws1.sinaimg.cn/large/0067fcixly1fxcc49mcpbj32bc3341kz.jpg)"
   ]
  },
  {
   "cell_type": "code",
   "execution_count": null,
   "metadata": {},
   "outputs": [],
   "source": [
    "\n"
   ]
  }
 ],
 "metadata": {
  "kernelspec": {
   "display_name": "Python 3",
   "language": "python",
   "name": "python3"
  },
  "language_info": {
   "codemirror_mode": {
    "name": "ipython",
    "version": 3
   },
   "file_extension": ".py",
   "mimetype": "text/x-python",
   "name": "python",
   "nbconvert_exporter": "python",
   "pygments_lexer": "ipython3",
   "version": "3.5.5"
  }
 },
 "nbformat": 4,
 "nbformat_minor": 1
}
