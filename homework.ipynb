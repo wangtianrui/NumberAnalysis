{
 "cells": [
  {
   "cell_type": "code",
   "execution_count": 6,
   "metadata": {
    "collapsed": true
   },
   "outputs": [],
   "source": [
    "import numpy as np\n",
    "import matplotlib.pyplot as plt"
   ]
  },
  {
   "cell_type": "code",
   "execution_count": 7,
   "metadata": {},
   "outputs": [],
   "source": [
    "\n",
    "def function(x):\n",
    "    \"\"\"\n",
    "    定义函数 y = (x+5)**3 + x / 5 - 50\n",
    "    :param x: \n",
    "    :return: \n",
    "    \"\"\"\n",
    "    x = np.array(x)\n",
    "    return (x+5)**3 + x / 5 - 50\n"
   ]
  },
  {
   "cell_type": "code",
   "execution_count": 8,
   "metadata": {},
   "outputs": [],
   "source": [
    "\"\"\"\n",
    "初始化x\n",
    "\"\"\"\n",
    "x = np.array(range(100))\n",
    "x = [(a+1)/10 - 8 for a in x]\n",
    "\n",
    "\"\"\"\n",
    "可视化，可见解在-2~0之间\n",
    "\"\"\"\n",
    "y = function(x)\n",
    "plt.scatter(x,y)\n",
    "plt.show()"
   ]
  },
  {
   "cell_type": "code",
   "execution_count": 20,
   "metadata": {},
   "outputs": [],
   "source": [
    "def loss(x_new,x_old):\n",
    "    \"\"\"\n",
    "    相对误差\n",
    "    :param x_new: \n",
    "    :param x_old: \n",
    "    :return: \n",
    "    \"\"\"\n",
    "    try:\n",
    "        loss = abs((x_new-x_old)/x_new)\n",
    "    except ZeroDivisionError:\n",
    "        loss = abs(x_new-x_old)\n",
    "    return loss\n",
    "\n",
    "def dichotomization(x1,x2,x_old):\n",
    "    \"\"\"\n",
    "    二分法计算新点\n",
    "    :param x1: \n",
    "    :param x2: \n",
    "    :return: 新的x1 and x2  and loss\n",
    "    \"\"\"\n",
    "    y1 = function(x1)\n",
    "    y2 = function(x2)\n",
    "    if y1 * y2 > 0 :\n",
    "        print(\"二分法：输入区间不对\")\n",
    "        return \n",
    "    x_new = (x1+x2) / 2.0\n",
    "    l = loss(x_new=x_new,x_old=x_old)\n",
    "    y_new = function(x_new)\n",
    "    if(y1 * y_new < 0):\n",
    "        x2 = x_new\n",
    "    else:\n",
    "        x1 = x_new\n",
    "    return x1 , x2 , l , x_new\n",
    "\n",
    "def regulaFalsi(x1,x2,x_old):\n",
    "    \"\"\"\n",
    "    试位法计算新点\n",
    "    :param x1: \n",
    "    :param x2: \n",
    "    :return: 新的x1 and x2\n",
    "    \"\"\"\n",
    "    if x1 > x2 :\n",
    "        #确保x1小于x2\n",
    "        x1 += x2\n",
    "        x2 = x1 - x2\n",
    "        x1 -= x2\n",
    "    y1 = function(x1)\n",
    "    y2 = function(x2)\n",
    "    if y1 * y2 > 0 :\n",
    "        print(\"试位法：输入区间不对\")\n",
    "        return\n",
    "    x_new = x1 + abs( (x2-x1) * y1 / (y2 + y1) )\n",
    "    l = loss(x_new=x_new,x_old=x_old)\n",
    "    y_new = function(x_new)\n",
    "    if(y1 * y_new < 0):\n",
    "        x2 = x_new\n",
    "    else:\n",
    "        x1 = x_new\n",
    "    return x1 , x2 , l , x_new\n"
   ]
  },
  {
   "cell_type": "code",
   "execution_count": 21,
   "metadata": {},
   "outputs": [],
   "source": [
    "def stepsCountLimit(steps):\n",
    "    \"\"\"\n",
    "    在[-10,10]中搜索\n",
    "    :param steps: 搜索次数\n",
    "    :return: loss\n",
    "    \"\"\"\n",
    "    dichotomy_loss = []\n",
    "    regulafalsi_loss = []\n",
    "    d_x1 = r_x1 = -10 \n",
    "    d_x2 = r_x2 = 10\n",
    "    d_x_old = 0\n",
    "    r_x_old = 0\n",
    "    for i in range(steps):\n",
    "        d_x1 , d_x2 , d_loss , d_x_old = \\\n",
    "            dichotomization(d_x1 , d_x2 , d_x_old)\n",
    "        \n",
    "        r_x1 , r_x2 , r_loss , r_x_old = \\\n",
    "            regulaFalsi(r_x1 , r_x2 , r_x_old)\n",
    "        \n",
    "        dichotomy_loss.append(d_loss)\n",
    "        regulafalsi_loss.append(r_loss)\n",
    "    \n",
    "    plt.figure()\n",
    "    plt.subplot(211)\n",
    "    plt.scatter(dichotomy_loss)\n",
    "    plt.title(\"二分法loss\")\n",
    "    \n",
    "    plt.subplot(212)\n",
    "    plt.scatter(regulafalsi_loss)\n",
    "    plt.title(\"试位法loss\")\n",
    "    \n",
    "    plt.show()"
   ]
  },
  {
   "cell_type": "code",
   "execution_count": 22,
   "metadata": {
    "collapsed": true
   },
   "outputs": [
    {
     "ename": "ZeroDivisionError",
     "evalue": "float division by zero",
     "traceback": [
      "\u001b[1;31m---------------------------------------------------------------------------\u001b[0m",
      "\u001b[1;31mZeroDivisionError\u001b[0m                         Traceback (most recent call last)",
      "\u001b[1;32m<ipython-input-22-3734cbb3b23a>\u001b[0m in \u001b[0;36m<module>\u001b[1;34m()\u001b[0m\n\u001b[1;32m----> 1\u001b[1;33m \u001b[0mstepsCountLimit\u001b[0m\u001b[1;33m(\u001b[0m\u001b[1;36m1000\u001b[0m\u001b[1;33m)\u001b[0m\u001b[1;33m\u001b[0m\u001b[0m\n\u001b[0m",
      "\u001b[1;32m<ipython-input-21-dc12d33247b8>\u001b[0m in \u001b[0;36mstepsCountLimit\u001b[1;34m(steps)\u001b[0m\n\u001b[0;32m     12\u001b[0m     \u001b[0mr_x_old\u001b[0m \u001b[1;33m=\u001b[0m \u001b[1;36m0\u001b[0m\u001b[1;33m\u001b[0m\u001b[0m\n\u001b[0;32m     13\u001b[0m     \u001b[1;32mfor\u001b[0m \u001b[0mi\u001b[0m \u001b[1;32min\u001b[0m \u001b[0mrange\u001b[0m\u001b[1;33m(\u001b[0m\u001b[0msteps\u001b[0m\u001b[1;33m)\u001b[0m\u001b[1;33m:\u001b[0m\u001b[1;33m\u001b[0m\u001b[0m\n\u001b[1;32m---> 14\u001b[1;33m         \u001b[0md_x1\u001b[0m \u001b[1;33m,\u001b[0m \u001b[0md_x2\u001b[0m \u001b[1;33m,\u001b[0m \u001b[0md_loss\u001b[0m \u001b[1;33m,\u001b[0m \u001b[0md_x_old\u001b[0m \u001b[1;33m=\u001b[0m             \u001b[0mdichotomization\u001b[0m\u001b[1;33m(\u001b[0m\u001b[0md_x1\u001b[0m \u001b[1;33m,\u001b[0m \u001b[0md_x2\u001b[0m \u001b[1;33m,\u001b[0m \u001b[0md_x_old\u001b[0m\u001b[1;33m)\u001b[0m\u001b[1;33m\u001b[0m\u001b[0m\n\u001b[0m\u001b[0;32m     15\u001b[0m \u001b[1;33m\u001b[0m\u001b[0m\n\u001b[0;32m     16\u001b[0m         \u001b[0mr_x1\u001b[0m \u001b[1;33m,\u001b[0m \u001b[0mr_x2\u001b[0m \u001b[1;33m,\u001b[0m \u001b[0mr_loss\u001b[0m \u001b[1;33m,\u001b[0m \u001b[0mr_x_old\u001b[0m \u001b[1;33m=\u001b[0m             \u001b[0mregulaFalsi\u001b[0m\u001b[1;33m(\u001b[0m\u001b[0mr_x1\u001b[0m \u001b[1;33m,\u001b[0m \u001b[0mr_x2\u001b[0m \u001b[1;33m,\u001b[0m \u001b[0mr_x_old\u001b[0m\u001b[1;33m)\u001b[0m\u001b[1;33m\u001b[0m\u001b[0m\n",
      "\u001b[1;32m<ipython-input-20-ee3917b6979c>\u001b[0m in \u001b[0;36mdichotomization\u001b[1;34m(x1, x2, x_old)\u001b[0m\n\u001b[0;32m     21\u001b[0m         \u001b[1;32mreturn\u001b[0m\u001b[1;33m\u001b[0m\u001b[0m\n\u001b[0;32m     22\u001b[0m     \u001b[0mx_new\u001b[0m \u001b[1;33m=\u001b[0m \u001b[1;33m(\u001b[0m\u001b[0mx1\u001b[0m\u001b[1;33m+\u001b[0m\u001b[0mx2\u001b[0m\u001b[1;33m)\u001b[0m \u001b[1;33m/\u001b[0m \u001b[1;36m2.0\u001b[0m\u001b[1;33m\u001b[0m\u001b[0m\n\u001b[1;32m---> 23\u001b[1;33m     \u001b[0ml\u001b[0m \u001b[1;33m=\u001b[0m \u001b[0mloss\u001b[0m\u001b[1;33m(\u001b[0m\u001b[0mx_new\u001b[0m\u001b[1;33m=\u001b[0m\u001b[0mx_new\u001b[0m\u001b[1;33m,\u001b[0m\u001b[0mx_old\u001b[0m\u001b[1;33m=\u001b[0m\u001b[0mx_old\u001b[0m\u001b[1;33m)\u001b[0m\u001b[1;33m\u001b[0m\u001b[0m\n\u001b[0m\u001b[0;32m     24\u001b[0m     \u001b[0my_new\u001b[0m \u001b[1;33m=\u001b[0m \u001b[0mfunction\u001b[0m\u001b[1;33m(\u001b[0m\u001b[0mx_new\u001b[0m\u001b[1;33m)\u001b[0m\u001b[1;33m\u001b[0m\u001b[0m\n\u001b[0;32m     25\u001b[0m     \u001b[1;32mif\u001b[0m\u001b[1;33m(\u001b[0m\u001b[0my1\u001b[0m \u001b[1;33m*\u001b[0m \u001b[0my_new\u001b[0m \u001b[1;33m<\u001b[0m \u001b[1;36m0\u001b[0m\u001b[1;33m)\u001b[0m\u001b[1;33m:\u001b[0m\u001b[1;33m\u001b[0m\u001b[0m\n",
      "\u001b[1;32m<ipython-input-20-ee3917b6979c>\u001b[0m in \u001b[0;36mloss\u001b[1;34m(x_new, x_old)\u001b[0m\n\u001b[0;32m      6\u001b[0m     \u001b[1;33m:\u001b[0m\u001b[1;32mreturn\u001b[0m\u001b[1;33m:\u001b[0m\u001b[1;33m\u001b[0m\u001b[0m\n\u001b[0;32m      7\u001b[0m     \"\"\"\n\u001b[1;32m----> 8\u001b[1;33m     \u001b[1;32mreturn\u001b[0m \u001b[0mabs\u001b[0m\u001b[1;33m(\u001b[0m\u001b[1;33m(\u001b[0m\u001b[0mx_new\u001b[0m\u001b[1;33m-\u001b[0m\u001b[0mx_old\u001b[0m\u001b[1;33m)\u001b[0m\u001b[1;33m/\u001b[0m\u001b[0mx_new\u001b[0m\u001b[1;33m)\u001b[0m\u001b[1;33m\u001b[0m\u001b[0m\n\u001b[0m\u001b[0;32m      9\u001b[0m \u001b[1;33m\u001b[0m\u001b[0m\n\u001b[0;32m     10\u001b[0m \u001b[1;32mdef\u001b[0m \u001b[0mdichotomization\u001b[0m\u001b[1;33m(\u001b[0m\u001b[0mx1\u001b[0m\u001b[1;33m,\u001b[0m\u001b[0mx2\u001b[0m\u001b[1;33m,\u001b[0m\u001b[0mx_old\u001b[0m\u001b[1;33m)\u001b[0m\u001b[1;33m:\u001b[0m\u001b[1;33m\u001b[0m\u001b[0m\n",
      "\u001b[1;31mZeroDivisionError\u001b[0m: float division by zero"
     ],
     "output_type": "error"
    }
   ],
   "source": [
    "stepsCountLimit(1000)"
   ]
  },
  {
   "cell_type": "code",
   "execution_count": null,
   "metadata": {},
   "outputs": [],
   "source": []
  }
 ],
 "metadata": {
  "kernelspec": {
   "display_name": "Python 2",
   "language": "python",
   "name": "python2"
  },
  "language_info": {
   "codemirror_mode": {
    "name": "ipython",
    "version": 2
   },
   "file_extension": ".py",
   "mimetype": "text/x-python",
   "name": "python",
   "nbconvert_exporter": "python",
   "pygments_lexer": "ipython2",
   "version": "2.7.6"
  }
 },
 "nbformat": 4,
 "nbformat_minor": 0
}
